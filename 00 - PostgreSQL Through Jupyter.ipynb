{
 "cells": [
  {
   "cell_type": "markdown",
   "metadata": {},
   "source": [
    "# 00 - PostgreSQL Through Jupyter\n"
   ]
  },
  {
   "cell_type": "markdown",
   "metadata": {},
   "source": [
    "This is an optional notebook for loading data through PostgreSQL. <br>\n",
    "The data should be in the form of a .csv file."
   ]
  },
  {
   "cell_type": "markdown",
   "metadata": {},
   "source": [
    "## 1. Import Packages <a name=\"import\"></a>"
   ]
  },
  {
   "cell_type": "code",
   "execution_count": 229,
   "metadata": {},
   "outputs": [],
   "source": [
    "import csv\n",
    "import pandas as pd\n",
    "\n",
    "import pandas.io.sql as pd_sql\n",
    "\n",
    "from collections import defaultdict\n",
    "\n",
    "import os\n",
    "\n",
    "import psycopg2 as pg\n",
    "from psycopg2.extensions import ISOLATION_LEVEL_AUTOCOMMIT\n",
    "from psycopg2 import OperationalError, errorcodes, errors\n",
    "\n",
    "from tqdm import tqdm\n",
    "\n",
    "import pprint as pp"
   ]
  },
  {
   "cell_type": "markdown",
   "metadata": {},
   "source": [
    "## Table of Contents <a name=\"table\"></a>\n",
    "1. [Import Packages](#import)\n",
    "2. [Import Data](#import_data)\n",
    "3. [CREATE TABLE Statement](#create)\n",
    "4. [Connecting to PostgreSQL](#connect)\n",
    "5. [INSERT TABLE Statement](#insert)\n",
    "6. [Inserting Data into PostgreSQL](#insert_data)\n",
    "    1. [Clean Data](#clean)\n",
    "    2. [Messy Data](#messy)\n",
    "7. [Querying Data](#query)\n",
    "    1. [Cursor Method](#cursor)\n",
    "    2. [Pandas Method](#pandas)\n",
    "8. [Closing the Connection](#close)\n"
   ]
  },
  {
   "cell_type": "markdown",
   "metadata": {},
   "source": [
    "## 2. Import Data <a name=\"import_data\"></a>"
   ]
  },
  {
   "cell_type": "markdown",
   "metadata": {},
   "source": [
    "We import a sample of the .csv file to check what data types it has."
   ]
  },
  {
   "cell_type": "code",
   "execution_count": 244,
   "metadata": {},
   "outputs": [
    {
     "data": {
      "text/html": [
       "<div>\n",
       "<style scoped>\n",
       "    .dataframe tbody tr th:only-of-type {\n",
       "        vertical-align: middle;\n",
       "    }\n",
       "\n",
       "    .dataframe tbody tr th {\n",
       "        vertical-align: top;\n",
       "    }\n",
       "\n",
       "    .dataframe thead th {\n",
       "        text-align: right;\n",
       "    }\n",
       "</style>\n",
       "<table border=\"1\" class=\"dataframe\">\n",
       "  <thead>\n",
       "    <tr style=\"text-align: right;\">\n",
       "      <th></th>\n",
       "      <th>ID</th>\n",
       "      <th>name</th>\n",
       "      <th>category</th>\n",
       "      <th>main_category</th>\n",
       "      <th>currency</th>\n",
       "      <th>deadline</th>\n",
       "      <th>goal</th>\n",
       "      <th>launched</th>\n",
       "      <th>pledged</th>\n",
       "      <th>state</th>\n",
       "      <th>backers</th>\n",
       "      <th>country</th>\n",
       "      <th>usd pledged</th>\n",
       "      <th>usd_pledged_real</th>\n",
       "      <th>usd_goal_real</th>\n",
       "    </tr>\n",
       "  </thead>\n",
       "  <tbody>\n",
       "    <tr>\n",
       "      <td>0</td>\n",
       "      <td>1000002330</td>\n",
       "      <td>The Songs of Adelaide &amp; Abullah</td>\n",
       "      <td>Poetry</td>\n",
       "      <td>Publishing</td>\n",
       "      <td>GBP</td>\n",
       "      <td>2015-10-09</td>\n",
       "      <td>1000.0</td>\n",
       "      <td>2015-08-11 12:12:28</td>\n",
       "      <td>0.0</td>\n",
       "      <td>failed</td>\n",
       "      <td>0</td>\n",
       "      <td>GB</td>\n",
       "      <td>0.0</td>\n",
       "      <td>0.0</td>\n",
       "      <td>1533.95</td>\n",
       "    </tr>\n",
       "    <tr>\n",
       "      <td>1</td>\n",
       "      <td>1000003930</td>\n",
       "      <td>Greeting From Earth: ZGAC Arts Capsule For ET</td>\n",
       "      <td>Narrative Film</td>\n",
       "      <td>Film &amp; Video</td>\n",
       "      <td>USD</td>\n",
       "      <td>2017-11-01</td>\n",
       "      <td>30000.0</td>\n",
       "      <td>2017-09-02 04:43:57</td>\n",
       "      <td>2421.0</td>\n",
       "      <td>failed</td>\n",
       "      <td>15</td>\n",
       "      <td>US</td>\n",
       "      <td>100.0</td>\n",
       "      <td>2421.0</td>\n",
       "      <td>30000.00</td>\n",
       "    </tr>\n",
       "    <tr>\n",
       "      <td>2</td>\n",
       "      <td>1000004038</td>\n",
       "      <td>Where is Hank?</td>\n",
       "      <td>Narrative Film</td>\n",
       "      <td>Film &amp; Video</td>\n",
       "      <td>USD</td>\n",
       "      <td>2013-02-26</td>\n",
       "      <td>45000.0</td>\n",
       "      <td>2013-01-12 00:20:50</td>\n",
       "      <td>220.0</td>\n",
       "      <td>failed</td>\n",
       "      <td>3</td>\n",
       "      <td>US</td>\n",
       "      <td>220.0</td>\n",
       "      <td>220.0</td>\n",
       "      <td>45000.00</td>\n",
       "    </tr>\n",
       "    <tr>\n",
       "      <td>3</td>\n",
       "      <td>1000007540</td>\n",
       "      <td>ToshiCapital Rekordz Needs Help to Complete Album</td>\n",
       "      <td>Music</td>\n",
       "      <td>Music</td>\n",
       "      <td>USD</td>\n",
       "      <td>2012-04-16</td>\n",
       "      <td>5000.0</td>\n",
       "      <td>2012-03-17 03:24:11</td>\n",
       "      <td>1.0</td>\n",
       "      <td>failed</td>\n",
       "      <td>1</td>\n",
       "      <td>US</td>\n",
       "      <td>1.0</td>\n",
       "      <td>1.0</td>\n",
       "      <td>5000.00</td>\n",
       "    </tr>\n",
       "    <tr>\n",
       "      <td>4</td>\n",
       "      <td>1000011046</td>\n",
       "      <td>Community Film Project: The Art of Neighborhoo...</td>\n",
       "      <td>Film &amp; Video</td>\n",
       "      <td>Film &amp; Video</td>\n",
       "      <td>USD</td>\n",
       "      <td>2015-08-29</td>\n",
       "      <td>19500.0</td>\n",
       "      <td>2015-07-04 08:35:03</td>\n",
       "      <td>1283.0</td>\n",
       "      <td>canceled</td>\n",
       "      <td>14</td>\n",
       "      <td>US</td>\n",
       "      <td>1283.0</td>\n",
       "      <td>1283.0</td>\n",
       "      <td>19500.00</td>\n",
       "    </tr>\n",
       "  </tbody>\n",
       "</table>\n",
       "</div>"
      ],
      "text/plain": [
       "           ID                                               name  \\\n",
       "0  1000002330                    The Songs of Adelaide & Abullah   \n",
       "1  1000003930      Greeting From Earth: ZGAC Arts Capsule For ET   \n",
       "2  1000004038                                     Where is Hank?   \n",
       "3  1000007540  ToshiCapital Rekordz Needs Help to Complete Album   \n",
       "4  1000011046  Community Film Project: The Art of Neighborhoo...   \n",
       "\n",
       "         category main_category currency    deadline     goal  \\\n",
       "0          Poetry    Publishing      GBP  2015-10-09   1000.0   \n",
       "1  Narrative Film  Film & Video      USD  2017-11-01  30000.0   \n",
       "2  Narrative Film  Film & Video      USD  2013-02-26  45000.0   \n",
       "3           Music         Music      USD  2012-04-16   5000.0   \n",
       "4    Film & Video  Film & Video      USD  2015-08-29  19500.0   \n",
       "\n",
       "              launched  pledged     state  backers country  usd pledged  \\\n",
       "0  2015-08-11 12:12:28      0.0    failed        0      GB          0.0   \n",
       "1  2017-09-02 04:43:57   2421.0    failed       15      US        100.0   \n",
       "2  2013-01-12 00:20:50    220.0    failed        3      US        220.0   \n",
       "3  2012-03-17 03:24:11      1.0    failed        1      US          1.0   \n",
       "4  2015-07-04 08:35:03   1283.0  canceled       14      US       1283.0   \n",
       "\n",
       "   usd_pledged_real  usd_goal_real  \n",
       "0               0.0        1533.95  \n",
       "1            2421.0       30000.00  \n",
       "2             220.0       45000.00  \n",
       "3               1.0        5000.00  \n",
       "4            1283.0       19500.00  "
      ]
     },
     "execution_count": 244,
     "metadata": {},
     "output_type": "execute_result"
    }
   ],
   "source": [
    "#get the file path of the data\n",
    "file_dir = os.path.abspath('.')\n",
    "data_folder = 'data'\n",
    "csv_file = 'ks-projects-201801.csv.gz'\n",
    "\n",
    "path = os.path.join(file_dir, data_folder, csv_file)\n",
    "\n",
    "#load only a portion of the csv file, specifically 10 rows with nrows = 10\n",
    "ks2018_sample = pd.read_csv(path, low_memory = False, nrows = 10)\n",
    "ks2018_sample.head()"
   ]
  },
  {
   "cell_type": "code",
   "execution_count": 22,
   "metadata": {},
   "outputs": [
    {
     "data": {
      "text/plain": [
       "ID                    int64\n",
       "name                 object\n",
       "category             object\n",
       "main_category        object\n",
       "currency             object\n",
       "deadline             object\n",
       "goal                float64\n",
       "launched             object\n",
       "pledged             float64\n",
       "state                object\n",
       "backers               int64\n",
       "country              object\n",
       "usd pledged         float64\n",
       "usd_pledged_real    float64\n",
       "usd_goal_real       float64\n",
       "dtype: object"
      ]
     },
     "execution_count": 22,
     "metadata": {},
     "output_type": "execute_result"
    }
   ],
   "source": [
    "ks2018_dtypes = pd.Series(ks2018_sample.dtypes)\n",
    "ks2018_dtypes"
   ]
  },
  {
   "cell_type": "markdown",
   "metadata": {},
   "source": [
    "Return to [Table of Contents](#table)"
   ]
  },
  {
   "cell_type": "markdown",
   "metadata": {},
   "source": [
    "## 3. CREATE TABLE Statement <a name=\"create\"></a>"
   ]
  },
  {
   "cell_type": "code",
   "execution_count": 150,
   "metadata": {},
   "outputs": [],
   "source": [
    "def create_table_statement(df, table_name):\n",
    "    \"\"\"\n",
    "        Helper function to make \"CREATE TABLE\" statement for psql\n",
    "        \n",
    "        :param df: a pandas DateFrame object\n",
    "        :param table_name: name of new table in psql as string\n",
    "        :return create_table: \"CREATE TABLE\" statement for psql as string\n",
    "    \"\"\"\n",
    "    \n",
    "    col_names = df.dtypes.index.values\n",
    "    dtypes = df.dtypes.values\n",
    "\n",
    "    #every name in psql is lowercase by default\n",
    "    table_name = table_name.lower()\n",
    "\n",
    "    #statement for creating the table in psql\n",
    "    create_table = \"CREATE TABLE IF NOT EXISTS %s (\\n\" %table_name  \n",
    "\n",
    "    for idx, col_name in enumerate(col_names):\n",
    "        #get the datatype for the current column\n",
    "        dtype = dtypes[idx]\n",
    "\n",
    "        #lowercase and remove spaces from column names\n",
    "        col_name = col_name.lower().replace(' ', '_')\n",
    "        #simply formatting so it prints more cleanly\n",
    "        create_table += \"\\t\"\n",
    "\n",
    "        #assign column types and default values of null\n",
    "        if dtype == 'int64':\n",
    "            create_table = create_table + col_name + \" INT DEFAULT NULL\"\n",
    "\n",
    "        elif dtype == 'object':\n",
    "            create_table = create_table + col_name + \" VARCHAR DEFAULT NULL\"\n",
    "\n",
    "        elif dtype == 'float64':\n",
    "            create_table = create_table + col_name + \" DECIMAL DEFAULT NULL\"\n",
    "\n",
    "        #add a comma and start next line on \n",
    "        #another line for cleaner print format\n",
    "        #if this is not the last line\n",
    "        if idx != len(col_names) - 1:\n",
    "            create_table += \", \\n\"\n",
    "\n",
    "    #newline for cleaner print format and ; for execution\n",
    "    create_table += \"\\n);\"\n",
    "\n",
    "    print(create_table)\n",
    "    \n",
    "    return create_table"
   ]
  },
  {
   "cell_type": "code",
   "execution_count": 151,
   "metadata": {},
   "outputs": [
    {
     "name": "stdout",
     "output_type": "stream",
     "text": [
      "CREATE TABLE IF NOT EXISTS ks2018 (\n",
      "\tid INT DEFAULT NULL, \n",
      "\tname VARCHAR DEFAULT NULL, \n",
      "\tcategory VARCHAR DEFAULT NULL, \n",
      "\tmain_category VARCHAR DEFAULT NULL, \n",
      "\tcurrency VARCHAR DEFAULT NULL, \n",
      "\tdeadline VARCHAR DEFAULT NULL, \n",
      "\tgoal DECIMAL DEFAULT NULL, \n",
      "\tlaunched VARCHAR DEFAULT NULL, \n",
      "\tpledged DECIMAL DEFAULT NULL, \n",
      "\tstate VARCHAR DEFAULT NULL, \n",
      "\tbackers INT DEFAULT NULL, \n",
      "\tcountry VARCHAR DEFAULT NULL, \n",
      "\tusd_pledged DECIMAL DEFAULT NULL, \n",
      "\tusd_pledged_real DECIMAL DEFAULT NULL, \n",
      "\tusd_goal_real DECIMAL DEFAULT NULL\n",
      ");\n"
     ]
    }
   ],
   "source": [
    "create_table = create_table_statement(ks2018_sample, 'ks2018')"
   ]
  },
  {
   "cell_type": "markdown",
   "metadata": {},
   "source": [
    "Return to [Table of Contents](#table)"
   ]
  },
  {
   "cell_type": "markdown",
   "metadata": {},
   "source": [
    "## 4. Connecting to Postgresql <a name=\"connect\"></a>"
   ]
  },
  {
   "cell_type": "markdown",
   "metadata": {},
   "source": [
    "If you experience troubles using the connection_args below, make sure:\n",
    "- PostgreSQL server has been started: <br>\n",
    "`sudo service postgresql start` <br>\n",
    "\n",
    "- The PostgreSQL server is listening: <br>\n",
    "`sudo su - postgres`<br>\n",
    "`vim /etc/postgresql/10/main/postgresql.conf` <br>\n",
    "`# listen_addresses='localhost'` needs to be uncommented <br>\n",
    "`sudo service postgresql restart` after exiting out of postgres super account <br>\n",
    "\n",
    "- A password exists for the user account if a password if requested: <br>\n",
    "`sudo su - postgres`<br>\n",
    "`psql` <br>\n",
    "`ALTER USER kchiv PASSWORD 'kchiv';` while using the postgres super account in psql <br>\n",
    "`sudo service postgresql restart` after exiting out of postgres super account <br>"
   ]
  },
  {
   "cell_type": "code",
   "execution_count": 53,
   "metadata": {},
   "outputs": [],
   "source": [
    "connection_args = {'host': 'localhost', #for ec2, use ip address instead\n",
    "                   'user':'kchiv', #change this to your username\n",
    "                   'password':'kchiv', #change this to your password, leave out if unnecessary\n",
    "                   'port': 5432}"
   ]
  },
  {
   "cell_type": "code",
   "execution_count": 231,
   "metadata": {},
   "outputs": [],
   "source": [
    "connection = pg.connect(**connection_args)\n",
    "\n",
    "#if you want to autocommit instead, comment out if not\n",
    "connection.autocommit = True\n",
    "\n",
    "cursor = connection.cursor()\n",
    "\n",
    "#if you want to autocommit instead, comment out if not\n",
    "connection.set_isolation_level(ISOLATION_LEVEL_AUTOCOMMIT) "
   ]
  },
  {
   "cell_type": "markdown",
   "metadata": {},
   "source": [
    "PostgreSQL does not support \"CREATE DATABASE <database> IF NOT EXISTS;\""
   ]
  },
  {
   "cell_type": "code",
   "execution_count": 75,
   "metadata": {},
   "outputs": [
    {
     "name": "stdout",
     "output_type": "stream",
     "text": [
      "Duplicate Database: kickstarter database already exists\n"
     ]
    }
   ],
   "source": [
    "#do this if you need to create the database\n",
    "#everything in psql is lowercase by default\n",
    "db_name = 'kickstarter'\n",
    "\n",
    "try:\n",
    "    cursor.execute(\"CREATE DATABASE %s  ;\" %db_name)\n",
    "except Exception as error:\n",
    "    print('Duplicate Database: %s database already exists' %db_name)"
   ]
  },
  {
   "cell_type": "code",
   "execution_count": 77,
   "metadata": {},
   "outputs": [],
   "source": [
    "#change this value to true if you want to drop the database\n",
    "drop_database = False\n",
    "\n",
    "if drop_database:\n",
    "    #run the follow code if you need to drop the database\n",
    "    cursor.execute(\"DROP DATABASE %s  ;\" %db_name) "
   ]
  },
  {
   "cell_type": "markdown",
   "metadata": {},
   "source": [
    "Connect to the database by restarting the connection with the name of the database provided."
   ]
  },
  {
   "cell_type": "code",
   "execution_count": 62,
   "metadata": {},
   "outputs": [],
   "source": [
    "connection.close()\n",
    "\n",
    "connection_args['dbname'] = 'kickstarter'\n",
    "connection = pg.connect(**connection_args)\n",
    "\n",
    "cursor = connection.cursor()\n",
    "\n",
    "#if you want to autocommit instead, comment out if not\n",
    "connection.set_isolation_level(ISOLATION_LEVEL_AUTOCOMMIT)"
   ]
  },
  {
   "cell_type": "code",
   "execution_count": 159,
   "metadata": {},
   "outputs": [],
   "source": [
    "#create table in psql\n",
    "cursor.execute(create_table)"
   ]
  },
  {
   "cell_type": "code",
   "execution_count": 158,
   "metadata": {},
   "outputs": [],
   "source": [
    "#change this value to true if you want to drop the table\n",
    "drop_table = False\n",
    "\n",
    "if drop_table:\n",
    "    #run the follow code if you need to drop the table\n",
    "    cursor.execute(\"DROP Table IF EXISTS %s  ;\" %table_name) "
   ]
  },
  {
   "cell_type": "markdown",
   "metadata": {},
   "source": [
    "Return to [Table of Contents](#table)"
   ]
  },
  {
   "cell_type": "markdown",
   "metadata": {},
   "source": [
    "## 5. INSERT TABLE Statement <a name=\"insert\"></a>"
   ]
  },
  {
   "cell_type": "code",
   "execution_count": 152,
   "metadata": {},
   "outputs": [],
   "source": [
    "def insert_table_statement(df, table_name):\n",
    "    \"\"\"\n",
    "        Function to make \"INSERT INTO\" statement for psql\n",
    "        \n",
    "        :param df: a pandas DateFrame object\n",
    "        :param table_name: name of new table in psql as string\n",
    "        :return insert_statement: \"INSERT INTO\" statement for psql as string\n",
    "    \"\"\"\n",
    "    \n",
    "    col_names = df.columns\n",
    "    \n",
    "    #statement for inserting values into table\n",
    "    insert_statement = \"INSERT INTO %s (\" %table_name\n",
    "    values = \" VALUES (\"\n",
    "    insert_statement\n",
    "\n",
    "    for idx, col_name in enumerate(col_names):\n",
    "\n",
    "        #lowercase and remove spaces from column names\n",
    "        #as we did before with the table\n",
    "        col_name = col_name.lower().replace(' ', '_')\n",
    "\n",
    "        #adding columns to insert statement\n",
    "        #also formatting after every 4th column for cleaner print format\n",
    "        if idx % 4 == 0 and idx != 0:\n",
    "            insert_statement = insert_statement + '\\n\\t\\t\\t' + col_name\n",
    "        else:\n",
    "            insert_statement = insert_statement + col_name \n",
    "\n",
    "        #append a %s to values for every col_name\n",
    "        #this is for substituting the values in later\n",
    "        values += \"%s\"\n",
    "\n",
    "        #exit loop if this the last column\n",
    "        if idx == len(col_names) - 1:\n",
    "            break\n",
    "\n",
    "        insert_statement += \", \"\n",
    "        values += \", \"\n",
    "\n",
    "    insert_statement += \")\"\n",
    "    values += \");\"\n",
    "\n",
    "    insert_statement = insert_statement + '\\n' + values\n",
    "\n",
    "    print(insert_statement)\n",
    "    \n",
    "    return insert_statement"
   ]
  },
  {
   "cell_type": "markdown",
   "metadata": {},
   "source": [
    "Return to [Table of Contents](#table)"
   ]
  },
  {
   "cell_type": "markdown",
   "metadata": {},
   "source": [
    "## 6. Inserting Data into PostgreSQL <a name=\"insert_data\"></a>"
   ]
  },
  {
   "cell_type": "markdown",
   "metadata": {},
   "source": [
    "You can insert data directly into PostgreSQL via Jupyter as long as these conditions are met:\n",
    "- table has already been created in PostgreSQL\n",
    "- Jupyter notebook is connected to PostgreSQL via psycopg2 "
   ]
  },
  {
   "cell_type": "markdown",
   "metadata": {},
   "source": [
    "### 6A. Clean Data <a name=\"clean\"></a>"
   ]
  },
  {
   "cell_type": "markdown",
   "metadata": {},
   "source": [
    "You can insert data directly into PostgreSQL via Jupyter as long as these conditions are met:\n",
    "- .csv file of data exists\n",
    "- data is clean i.e. data has the correct types"
   ]
  },
  {
   "cell_type": "code",
   "execution_count": null,
   "metadata": {},
   "outputs": [],
   "source": [
    "#get the file path of the data\n",
    "file_dir = os.path.abspath('.')\n",
    "data_folder = 'data'\n",
    "csv_file = 'ks-projects-201801.csv'\n",
    "\n",
    "path = os.path.join(file_dir, data_folder, csv_file)\n",
    "\n",
    "table_name = 'ks2018'\n",
    "\n",
    "#COPY statement in psql as string\n",
    "copy_statement = \"COPY \" + table_name + \" FROM \" + path + \" DELIMITER ',' CSV HEADER;\"\n",
    "\n",
    "#copy data to psql table\n",
    "cursor.execute(copy_statement)\n",
    "\n",
    "#save data to psql table\n",
    "connection.commit()"
   ]
  },
  {
   "cell_type": "markdown",
   "metadata": {},
   "source": [
    "Return to [Table of Contents](#table)"
   ]
  },
  {
   "cell_type": "markdown",
   "metadata": {},
   "source": [
    "### 6B. Messy Data <a name=\"messy\"></a>"
   ]
  },
  {
   "cell_type": "markdown",
   "metadata": {},
   "source": [
    "Data is usually messy and you want to use PostgreSQL to examine the data might be too large for pandas or any other method. <br>\n",
    "The function below inserts data one row at a time from a .csv file. <br>\n",
    "Rows that cannot be inserted from the .csv file are saved to an error file named error.csv. <br>\n",
    "Fair warning, it could take a while to run."
   ]
  },
  {
   "cell_type": "code",
   "execution_count": 164,
   "metadata": {},
   "outputs": [],
   "source": [
    "def insert_into_table(connection, insert_statement, file_dir, data_folder, csv_file, encoding):\n",
    "\n",
    "    \"\"\"\n",
    "        Function to insert data into table in psql when data is not clean\n",
    "        This assumes the table already exists in psql\n",
    "        Could take a while to run, depending on the size of the .csv file\n",
    "        \n",
    "        :param connection: connection from psycopg2\n",
    "        :param insert_statement: 'INSERT INTO' statement produced by insert_statement()\n",
    "        :param file_dir: absolute path of working directory\n",
    "        :param data_folder: name of folder to fetch and save data\n",
    "        :param csv_file: name of .csv file\n",
    "        :param encoding: .csv file encoding\n",
    "    \"\"\"\n",
    "    \n",
    "    path = os.path.join(file_dir, data_folder, csv_file)\n",
    "    \n",
    "    cursor = connection.cursor()\n",
    "    \n",
    "    #keep track of the number of correct inserts\n",
    "    num_correct = 0\n",
    "\n",
    "    #may have to change encoding depending on file\n",
    "    with open(path, mode = 'r', encoding = encoding) as csv_file: \n",
    "        reader = csv.reader(csv_file, delimiter = ',')\n",
    "\n",
    "        #skip the headers i.e. colummn names\n",
    "        #save the column names info for later\n",
    "        col_names = next(reader)\n",
    "\n",
    "        #lowercase and replace spaces with '_'\n",
    "        #to match psql statements\n",
    "        col_names = [col_name.lower().replace(' ', '_') \n",
    "                         for col_name in col_names]\n",
    "\n",
    "        #iterating through the rows of the .csv file\n",
    "        #wrap iterable with tqdm to see progress\n",
    "        for idx, row in tqdm(enumerate(reader)):\n",
    "            try:\n",
    "                cursor.execute(insert_statement, tuple(row))\n",
    "                num_correct += 1\n",
    "\n",
    "            except Exception as error:\n",
    "                error_path = os.path.join(file_dir, data_folder, 'errors.csv')\n",
    "                with open(error_path, mode = 'a') as error_file:\n",
    "                    #we add one to idx since .csv files start at index one\n",
    "                    error_file.write(str(idx+1))\n",
    "            \n",
    "            #occasionally save what was inserted\n",
    "            #into the psql table after ever 1000th row \n",
    "            if idx % 1000 and idx != 0:\n",
    "                connection.commit()\n",
    "        \n",
    "        #final save to table in psql\n",
    "        connection.commit()\n",
    "        cursor.close()\n",
    "    \n",
    "    print('Number of Successful Row Inserts: %s' %num_correct)"
   ]
  },
  {
   "cell_type": "code",
   "execution_count": 165,
   "metadata": {},
   "outputs": [
    {
     "name": "stderr",
     "output_type": "stream",
     "text": [
      "18it [00:00, 170.55it/s]"
     ]
    },
    {
     "name": "stdout",
     "output_type": "stream",
     "text": [
      "INSERT INTO ks2018 (id, name, category, main_category, \n",
      "\t\t\tcurrency, deadline, goal, launched, \n",
      "\t\t\tpledged, state, backers, country, \n",
      "\t\t\tusd_pledged, usd_pledged_real, usd_goal_real)\n",
      " VALUES (%s, %s, %s, %s, %s, %s, %s, %s, %s, %s, %s, %s, %s, %s, %s);\n"
     ]
    },
    {
     "name": "stderr",
     "output_type": "stream",
     "text": [
      "378661it [53:29, 117.96it/s]"
     ]
    },
    {
     "name": "stdout",
     "output_type": "stream",
     "text": [
      "Number of Successful Row Inserts: 374864\n"
     ]
    },
    {
     "name": "stderr",
     "output_type": "stream",
     "text": [
      "\n"
     ]
    }
   ],
   "source": [
    "#change to true if you want to remake the table\n",
    "drop = False\n",
    "\n",
    "if drop:\n",
    "    #drop table in case of mistakes, not necessary\n",
    "    cursor.execute(\"DROP Table IF EXISTS %s  ;\" %table_name) \n",
    "\n",
    "    #make new table if table is dropped\n",
    "    cursor.execute(create_table)\n",
    "\n",
    "#change this to true if you want to insert\n",
    "insert = False\n",
    "\n",
    "if insert:\n",
    "    insert_statement = insert_table_statement(ks2018_sample, 'ks2018')\n",
    "\n",
    "    file_dir = os.path.abspath('.')\n",
    "    data_folder = 'data'\n",
    "    csv_file = 'ks-projects-201801.csv'\n",
    "\n",
    "    insert_into_table(connection, insert_statement, \n",
    "                      file_dir, data_folder, csv_file, encoding = 'utf8')"
   ]
  },
  {
   "cell_type": "markdown",
   "metadata": {},
   "source": [
    "Check for errors after all the data has been inserted."
   ]
  },
  {
   "cell_type": "code",
   "execution_count": 168,
   "metadata": {},
   "outputs": [
    {
     "name": "stdout",
     "output_type": "stream",
     "text": [
      "Number of Rows that Errored Out: 1\n"
     ]
    }
   ],
   "source": [
    "if insert:\n",
    "    error_path = os.path.join(file_dir, data_folder, 'errors.csv')\n",
    "\n",
    "    with open(error_path, mode = 'r') as error_file:\n",
    "        reader = csv.reader(error_file, delimiter = ',')\n",
    "\n",
    "        error_indices = [row for row in reader]\n",
    "\n",
    "    print('Number of Rows that Errored Out: %s' %len(error_indices))"
   ]
  },
  {
   "cell_type": "markdown",
   "metadata": {},
   "source": [
    "Return to [Table of Contents](#table)"
   ]
  },
  {
   "cell_type": "markdown",
   "metadata": {},
   "source": [
    "## 7. Querying Data <a name=\"query\"></a>"
   ]
  },
  {
   "cell_type": "markdown",
   "metadata": {},
   "source": [
    "### 7A. Cursor Method <a name=\"cursor\"></a>"
   ]
  },
  {
   "cell_type": "markdown",
   "metadata": {},
   "source": [
    "The cursor method is useful for when you have too much data stored in the table in PostgreSQL. <br>\n",
    "However, it can be rather difficult to look at the data."
   ]
  },
  {
   "cell_type": "code",
   "execution_count": 220,
   "metadata": {},
   "outputs": [
    {
     "name": "stdout",
     "output_type": "stream",
     "text": [
      "[('Art', 'Art', 8253),\n",
      " ('Art', 'Painting', 3294),\n",
      " ('Art', 'Illustration', 3175),\n",
      " ('Art', 'Public Art', 3077),\n",
      " ('Art', 'Mixed Media', 2757),\n",
      " ('Art', 'Performance Art', 2154),\n",
      " ('Art', 'Sculpture', 1810),\n",
      " ('Art', 'Digital Art', 1346),\n",
      " ('Art', 'Conceptual Art', 1030),\n",
      " ('Art', 'Installations', 482),\n",
      " ('Art', 'Ceramics', 305),\n",
      " ('Art', 'Textiles', 276),\n",
      " ('Art', 'Video Art', 194),\n",
      " ('Comics', 'Comics', 4996),\n",
      " ('Comics', 'Comic Books', 2743),\n",
      " ('Comics', 'Graphic Novels', 1864),\n",
      " ('Comics', 'Webcomics', 648),\n",
      " ('Comics', 'Anthologies', 405),\n",
      " ('Comics', 'Events', 163),\n",
      " ('Crafts', 'Crafts', 4664),\n",
      " ('Crafts', 'DIY', 1173),\n",
      " ('Crafts', 'Woodworking', 1167),\n",
      " ('Crafts', 'Candles', 429),\n",
      " ('Crafts', 'Printing', 238),\n",
      " ('Crafts', 'Stationery', 219),\n",
      " ('Crafts', 'Knitting', 181),\n",
      " ('Crafts', 'Crochet', 162),\n",
      " ('Crafts', 'Glass', 138),\n",
      " ('Crafts', 'Embroidery', 113),\n",
      " ('Crafts', 'Pottery', 100),\n",
      " ('Crafts', 'Weaving', 93),\n",
      " ('Crafts', 'Quilts', 81),\n",
      " ('Crafts', 'Letterpress', 38),\n",
      " ('Crafts', 'Taxidermy', 13),\n",
      " ('Dance', 'Dance', 2321),\n",
      " ('Dance', 'Performances', 1013),\n",
      " ('Dance', 'Spaces', 200),\n",
      " ('Dance', 'Workshops', 164),\n",
      " ('Dance', 'Residencies', 69),\n",
      " ('Design', 'Product Design', 22311),\n",
      " ('Design', 'Design', 4199),\n",
      " ('Design', 'Graphic Design', 2002),\n",
      " ('Design', 'Architecture', 760),\n",
      " ('Design', 'Interactive Design', 398),\n",
      " ('Design', 'Civic Design', 289),\n",
      " ('Design', 'Typography', 108),\n",
      " ('Fashion', 'Fashion', 8554),\n",
      " ('Fashion', 'Apparel', 7165),\n",
      " ('Fashion', 'Accessories', 3162),\n",
      " ('Fashion', 'Jewelry', 1239),\n",
      " ('Fashion', 'Footwear', 931),\n",
      " ('Fashion', 'Ready-to-wear', 864),\n",
      " ('Fashion', 'Childrenswear', 483),\n",
      " ('Fashion', 'Couture', 275),\n",
      " ('Fashion', 'Pet Fashion', 139),\n",
      " ('Film & Video', 'Documentary', 16138),\n",
      " ('Film & Video', 'Shorts', 12357),\n",
      " ('Film & Video', 'Film & Video', 9224),\n",
      " ('Film & Video', 'Webseries', 5762),\n",
      " ('Film & Video', 'Narrative Film', 5187),\n",
      " ('Film & Video', 'Animation', 2541),\n",
      " ('Film & Video', 'Drama', 2178),\n",
      " ('Film & Video', 'Comedy', 2125),\n",
      " ('Film & Video', 'Horror', 1286),\n",
      " ('Film & Video', 'Television', 1015),\n",
      " ('Film & Video', 'Thrillers', 746),\n",
      " ('Film & Video', 'Science Fiction', 744),\n",
      " ('Film & Video', 'Action', 740),\n",
      " ('Film & Video', 'Music Videos', 709),\n",
      " ('Film & Video', 'Experimental', 551),\n",
      " ('Film & Video', 'Fantasy', 345),\n",
      " ('Film & Video', 'Family', 336),\n",
      " ('Film & Video', 'Festivals', 291),\n",
      " ('Film & Video', 'Movie Theaters', 232),\n",
      " ('Film & Video', 'Romance', 190),\n",
      " ('Food', 'Food', 11492),\n",
      " ('Food', 'Restaurants', 2818),\n",
      " ('Food', 'Drinks', 2422),\n",
      " ('Food', 'Small Batch', 1808),\n",
      " ('Food', 'Food Trucks', 1752),\n",
      " ('Food', 'Farms', 1154),\n",
      " ('Food', 'Events', 654),\n",
      " ('Food', 'Vegan', 588),\n",
      " ('Food', 'Cookbooks', 540),\n",
      " ('Food', 'Spaces', 428),\n",
      " ('Food', \"Farmer's Markets\", 424),\n",
      " ('Food', 'Community Gardens', 298),\n",
      " ('Food', 'Bacon', 221),\n",
      " ('Games', 'Tabletop Games', 14178),\n",
      " ('Games', 'Video Games', 11829),\n",
      " ('Games', 'Games', 3225),\n",
      " ('Games', 'Playing Cards', 2496),\n",
      " ('Games', 'Mobile Games', 1789),\n",
      " ('Games', 'Live Games', 1050),\n",
      " ('Games', 'Gaming Hardware', 428),\n",
      " ('Games', 'Puzzles', 231),\n",
      " ('Journalism', 'Journalism', 1747),\n",
      " ('Journalism', 'Web', 1247),\n",
      " ('Journalism', 'Print', 726),\n",
      " ('Journalism', 'Video', 428),\n",
      " ('Journalism', 'Audio', 410),\n",
      " ('Journalism', 'Photo', 196),\n",
      " ('Music', 'Music', 13340),\n",
      " ('Music', 'Rock', 6758),\n",
      " ('Music', 'Indie Rock', 5657),\n",
      " ('Music', 'Country & Folk', 4451),\n",
      " ('Music', 'Hip-Hop', 3911),\n",
      " ('Music', 'Pop', 3350),\n",
      " ('Music', 'Classical Music', 2613),\n",
      " ('Music', 'Electronic Music', 2170),\n",
      " ('Music', 'World Music', 2102),\n",
      " ('Music', 'Jazz', 1850),\n",
      " ('Music', 'Faith', 1092),\n",
      " ('Music', 'Metal', 717),\n",
      " ('Music', 'R&B', 458),\n",
      " ('Music', 'Punk', 317),\n",
      " ('Music', 'Kids', 285),\n",
      " ('Music', 'Blues', 268),\n",
      " ('Music', 'Latin', 137),\n",
      " ('Music', 'Chiptune', 35),\n",
      " ('Music', 'Comedy', 19),\n",
      " ('Photography', 'Photography', 5752),\n",
      " ('Photography', 'Photobooks', 1580),\n",
      " ('Photography', 'People', 1103),\n",
      " ('Photography', 'Fine Art', 775),\n",
      " ('Photography', 'Places', 739),\n",
      " ('Photography', 'Nature', 574),\n",
      " ('Photography', 'Animals', 255),\n",
      " ('Publishing', 'Fiction', 9168),\n",
      " ('Publishing', 'Nonfiction', 8317),\n",
      " ('Publishing', \"Children's Books\", 6756),\n",
      " ('Publishing', 'Publishing', 5525),\n",
      " ('Publishing', 'Art Books', 2676),\n",
      " ('Publishing', 'Poetry', 1369),\n",
      " ('Publishing', 'Periodicals', 1265),\n",
      " ('Publishing', 'Radio & Podcasts', 923),\n",
      " ('Publishing', 'Academic', 916),\n",
      " ('Publishing', 'Young Adult', 821),\n",
      " ('Publishing', 'Zines', 391),\n",
      " ('Publishing', 'Anthologies', 379),\n",
      " ('Publishing', 'Calendars', 329),\n",
      " ('Publishing', 'Literary Journals', 278),\n",
      " ('Publishing', 'Translations', 153),\n",
      " ('Publishing', 'Comedy', 75),\n",
      " ('Publishing', 'Literary Spaces', 27),\n",
      " ('Publishing', 'Letterpress', 11),\n",
      " ('Technology', 'Technology', 6927),\n",
      " ('Technology', 'Apps', 6345),\n",
      " ('Technology', 'Web', 3906),\n",
      " ('Technology', 'Hardware', 3662),\n",
      " ('Technology', 'Software', 3046),\n",
      " ('Technology', 'Gadgets', 2965),\n",
      " ('Technology', 'Wearables', 1233),\n",
      " ('Technology', 'DIY Electronics', 902),\n",
      " ('Technology', '3D Printing', 682),\n",
      " ('Technology', 'Sound', 669),\n",
      " ('Technology', 'Robots', 572),\n",
      " ('Technology', 'Flight', 426),\n",
      " ('Technology', 'Camera Equipment', 416),\n",
      " ('Technology', 'Space Exploration', 323),\n",
      " ('Technology', 'Fabrication Tools', 250),\n",
      " ('Technology', 'Makerspaces', 238),\n",
      " ('Theater', 'Theater', 7056),\n",
      " ('Theater', 'Plays', 1378),\n",
      " ('Theater', 'Musical', 913),\n",
      " ('Theater', 'Festivals', 548),\n",
      " ('Theater', 'Experimental', 373),\n",
      " ('Theater', 'Immersive', 330),\n",
      " ('Theater', 'Spaces', 213),\n",
      " ('Theater', 'Comedy', 101)]\n"
     ]
    }
   ],
   "source": [
    "query = \"SELECT main_category, category, count(id) FROM ks2018 \\\n",
    "         GROUP BY main_category, category \\\n",
    "         ORDER BY main_category, COUNT(id) DESC;\"\n",
    "\n",
    "#run the query\n",
    "cursor.execute(query)\n",
    "\n",
    "#fetch the results\n",
    "results = list(cursor.fetchall())\n",
    "\n",
    "pp.pprint(results)"
   ]
  },
  {
   "cell_type": "markdown",
   "metadata": {},
   "source": [
    "Return to [Table of Contents](#table)"
   ]
  },
  {
   "cell_type": "markdown",
   "metadata": {},
   "source": [
    "### 7B. Pandas Method <a name=\"pandas\"></a>"
   ]
  },
  {
   "cell_type": "markdown",
   "metadata": {},
   "source": [
    "The pandas method presents a more reader-friendly view of the results obtained from the query."
   ]
  },
  {
   "cell_type": "code",
   "execution_count": 232,
   "metadata": {},
   "outputs": [
    {
     "data": {
      "text/html": [
       "<div>\n",
       "<style scoped>\n",
       "    .dataframe tbody tr th:only-of-type {\n",
       "        vertical-align: middle;\n",
       "    }\n",
       "\n",
       "    .dataframe tbody tr th {\n",
       "        vertical-align: top;\n",
       "    }\n",
       "\n",
       "    .dataframe thead th {\n",
       "        text-align: right;\n",
       "    }\n",
       "</style>\n",
       "<table border=\"1\" class=\"dataframe\">\n",
       "  <thead>\n",
       "    <tr style=\"text-align: right;\">\n",
       "      <th></th>\n",
       "      <th></th>\n",
       "      <th>count</th>\n",
       "    </tr>\n",
       "    <tr>\n",
       "      <th>main_category</th>\n",
       "      <th>category</th>\n",
       "      <th></th>\n",
       "    </tr>\n",
       "  </thead>\n",
       "  <tbody>\n",
       "    <tr>\n",
       "      <td rowspan=\"8\" valign=\"top\">Theater</td>\n",
       "      <td>Theater</td>\n",
       "      <td>7056</td>\n",
       "    </tr>\n",
       "    <tr>\n",
       "      <td>Plays</td>\n",
       "      <td>1378</td>\n",
       "    </tr>\n",
       "    <tr>\n",
       "      <td>Musical</td>\n",
       "      <td>913</td>\n",
       "    </tr>\n",
       "    <tr>\n",
       "      <td>Festivals</td>\n",
       "      <td>548</td>\n",
       "    </tr>\n",
       "    <tr>\n",
       "      <td>Experimental</td>\n",
       "      <td>373</td>\n",
       "    </tr>\n",
       "    <tr>\n",
       "      <td>Immersive</td>\n",
       "      <td>330</td>\n",
       "    </tr>\n",
       "    <tr>\n",
       "      <td>Spaces</td>\n",
       "      <td>213</td>\n",
       "    </tr>\n",
       "    <tr>\n",
       "      <td>Comedy</td>\n",
       "      <td>101</td>\n",
       "    </tr>\n",
       "    <tr>\n",
       "      <td rowspan=\"16\" valign=\"top\">Technology</td>\n",
       "      <td>Technology</td>\n",
       "      <td>6927</td>\n",
       "    </tr>\n",
       "    <tr>\n",
       "      <td>Apps</td>\n",
       "      <td>6345</td>\n",
       "    </tr>\n",
       "    <tr>\n",
       "      <td>Web</td>\n",
       "      <td>3906</td>\n",
       "    </tr>\n",
       "    <tr>\n",
       "      <td>Hardware</td>\n",
       "      <td>3662</td>\n",
       "    </tr>\n",
       "    <tr>\n",
       "      <td>Software</td>\n",
       "      <td>3046</td>\n",
       "    </tr>\n",
       "    <tr>\n",
       "      <td>Gadgets</td>\n",
       "      <td>2965</td>\n",
       "    </tr>\n",
       "    <tr>\n",
       "      <td>Wearables</td>\n",
       "      <td>1233</td>\n",
       "    </tr>\n",
       "    <tr>\n",
       "      <td>DIY Electronics</td>\n",
       "      <td>902</td>\n",
       "    </tr>\n",
       "    <tr>\n",
       "      <td>3D Printing</td>\n",
       "      <td>682</td>\n",
       "    </tr>\n",
       "    <tr>\n",
       "      <td>Sound</td>\n",
       "      <td>669</td>\n",
       "    </tr>\n",
       "    <tr>\n",
       "      <td>Robots</td>\n",
       "      <td>572</td>\n",
       "    </tr>\n",
       "    <tr>\n",
       "      <td>Flight</td>\n",
       "      <td>426</td>\n",
       "    </tr>\n",
       "    <tr>\n",
       "      <td>Camera Equipment</td>\n",
       "      <td>416</td>\n",
       "    </tr>\n",
       "    <tr>\n",
       "      <td>Space Exploration</td>\n",
       "      <td>323</td>\n",
       "    </tr>\n",
       "    <tr>\n",
       "      <td>Fabrication Tools</td>\n",
       "      <td>250</td>\n",
       "    </tr>\n",
       "    <tr>\n",
       "      <td>Makerspaces</td>\n",
       "      <td>238</td>\n",
       "    </tr>\n",
       "    <tr>\n",
       "      <td>Publishing</td>\n",
       "      <td>Fiction</td>\n",
       "      <td>9168</td>\n",
       "    </tr>\n",
       "  </tbody>\n",
       "</table>\n",
       "</div>"
      ],
      "text/plain": [
       "                                 count\n",
       "main_category category                \n",
       "Theater       Theater             7056\n",
       "              Plays               1378\n",
       "              Musical              913\n",
       "              Festivals            548\n",
       "              Experimental         373\n",
       "              Immersive            330\n",
       "              Spaces               213\n",
       "              Comedy               101\n",
       "Technology    Technology          6927\n",
       "              Apps                6345\n",
       "              Web                 3906\n",
       "              Hardware            3662\n",
       "              Software            3046\n",
       "              Gadgets             2965\n",
       "              Wearables           1233\n",
       "              DIY Electronics      902\n",
       "              3D Printing          682\n",
       "              Sound                669\n",
       "              Robots               572\n",
       "              Flight               426\n",
       "              Camera Equipment     416\n",
       "              Space Exploration    323\n",
       "              Fabrication Tools    250\n",
       "              Makerspaces          238\n",
       "Publishing    Fiction             9168"
      ]
     },
     "execution_count": 232,
     "metadata": {},
     "output_type": "execute_result"
    }
   ],
   "source": [
    "df = pd_sql.read_sql_query(query, connection)\n",
    "\n",
    "df = (df.groupby(['main_category', 'category'])\n",
    "        .first()\n",
    "        .sort_values(['main_category', 'count'], ascending = False))\n",
    "\n",
    "df.head(25)"
   ]
  },
  {
   "cell_type": "markdown",
   "metadata": {},
   "source": [
    "Return to [Table of Contents](#table)"
   ]
  },
  {
   "cell_type": "markdown",
   "metadata": {},
   "source": [
    "## 8. Closing the Connection <a name=\"close\"></a>"
   ]
  },
  {
   "cell_type": "markdown",
   "metadata": {},
   "source": [
    "Do not forget to close the connection once you are finished."
   ]
  },
  {
   "cell_type": "code",
   "execution_count": 233,
   "metadata": {},
   "outputs": [],
   "source": [
    "#run this if you are done with psql\n",
    "cursor.close() \n",
    "connection.close()"
   ]
  },
  {
   "cell_type": "markdown",
   "metadata": {},
   "source": [
    "Return to [Table of Contents](#table)"
   ]
  }
 ],
 "metadata": {
  "kernelspec": {
   "display_name": "Python 3",
   "language": "python",
   "name": "python3"
  },
  "language_info": {
   "codemirror_mode": {
    "name": "ipython",
    "version": 3
   },
   "file_extension": ".py",
   "mimetype": "text/x-python",
   "name": "python",
   "nbconvert_exporter": "python",
   "pygments_lexer": "ipython3",
   "version": "3.7.4"
  }
 },
 "nbformat": 4,
 "nbformat_minor": 2
}
